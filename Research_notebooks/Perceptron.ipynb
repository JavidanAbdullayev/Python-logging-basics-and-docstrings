{
 "cells": [
  {
   "cell_type": "code",
   "execution_count": 1,
   "id": "8f058dc4",
   "metadata": {},
   "outputs": [],
   "source": [
    "import os\n",
    "import matplotlib.pyplot as plt\n",
    "import pandas as pd\n",
    "import numpy as np\n",
    "import seaborn as sns\n",
    "import joblib\n",
    "from matplotlib.colors import ListedColormap\n",
    "\n",
    "plt.style.use('fivethirtyeight')  ## << optional setup"
   ]
  },
  {
   "cell_type": "code",
   "execution_count": 2,
   "id": "2af8d88a",
   "metadata": {},
   "outputs": [],
   "source": [
    "class Perceptron:\n",
    "    def __init__(self, eta: float=None, epochs: int=None):\n",
    "        self.weights = np.random.randn(3) * 1e-4 # small random weights\n",
    "        training = (eta is not None) and (epochs is not None)\n",
    "        if training:\n",
    "            print(f\"initial weights before training: \\n{self.weights}\\n\")\n",
    "        self.eta = eta\n",
    "        self.epochs = epochs\n",
    "    \n",
    "    def _z_outcome(self, inputs, weights):\n",
    "        return np.dot(inputs, weights)\n",
    "    \n",
    "    def activation_function(self, z):\n",
    "        return np.where(z > 0, 1, 0)\n",
    "    \n",
    "    def fit(self, X, y):\n",
    "        self.X = X\n",
    "        self.y = y\n",
    "        \n",
    "        X_with_bias = np.c_[self.X, -np.ones((len(self.X), 1))]\n",
    "        print(f\"X with bias: \\n{X_with_bias}\")\n",
    "        \n",
    "        for epoch in range(self.epochs):\n",
    "            print(\"--\"*10)\n",
    "            print(f\"for epoch >> {epoch}\")\n",
    "            print(\"--\"*10)\n",
    "            \n",
    "            z = self._z_outcome(X_with_bias, self.weights)\n",
    "            y_hat = self.activation_function(z)\n",
    "            print(f\"predicted value after forward pass: \\n{y_hat}\")\n",
    "            \n",
    "            self.error = self.y - y_hat\n",
    "            print(f\"error: \\n{self.error}\")\n",
    "            \n",
    "            self.weights = self.weights + self.eta * np.dot(X_with_bias.T, self.error)\n",
    "            print(f\"updated weights after epoch: {epoch + 1}/{self.epochs}: \\n{self.weights}\")\n",
    "            print(\"##\"*10)\n",
    "            \n",
    "    \n",
    "    def predict(self, X):\n",
    "        X_with_bias = np.c_[X, -np.ones((len(X), 1))]\n",
    "        z = self._z_outcome(X_with_bias, self.weights)\n",
    "        return self.activation_function(z)\n",
    "    \n",
    "    def total_loss(self):\n",
    "        total_loss = np.sum(self.error)\n",
    "        print(f\"\\ntotal loss: {total_loss}\\n\")\n",
    "        return total_loss\n",
    "    \n",
    "    def _create_dir_return_path(self, model_dir, filename):\n",
    "        os.makedirs(model_dir, exist_ok=True)\n",
    "        return os.path.join(model_dir, filename)\n",
    "    \n",
    "    def save(self, filename, model_dir=None):\n",
    "        if model_dir is not None:\n",
    "            model_file_path = self._create_dir_return_path(model_dir, filename)\n",
    "            joblib.dump(self, model_file_path)\n",
    "        else:\n",
    "            model_file_path = self._create_dir_return_path(\"model\", filename)\n",
    "            joblib.dump(self, model_file_path)\n",
    "    \n",
    "    def load(self, filepath):\n",
    "        return joblib.load(filepath)"
   ]
  },
  {
   "cell_type": "code",
   "execution_count": 3,
   "id": "3185fe99",
   "metadata": {},
   "outputs": [],
   "source": [
    "X = np.random.randn(3) * 1e-4"
   ]
  },
  {
   "cell_type": "code",
   "execution_count": 17,
   "id": "df7385ed",
   "metadata": {},
   "outputs": [
    {
     "data": {
      "text/plain": [
       "(3,)"
      ]
     },
     "execution_count": 17,
     "metadata": {},
     "output_type": "execute_result"
    }
   ],
   "source": [
    "X.shape"
   ]
  },
  {
   "cell_type": "code",
   "execution_count": 10,
   "id": "3c995760",
   "metadata": {},
   "outputs": [
    {
     "data": {
      "text/plain": [
       "array([1.14357105e-04, 5.56411359e-05, 1.07175031e-05])"
      ]
     },
     "execution_count": 10,
     "metadata": {},
     "output_type": "execute_result"
    }
   ],
   "source": [
    "X"
   ]
  },
  {
   "cell_type": "code",
   "execution_count": 14,
   "id": "7091155e",
   "metadata": {},
   "outputs": [],
   "source": [
    "b = -np.ones((len(X), 1))"
   ]
  },
  {
   "cell_type": "code",
   "execution_count": 16,
   "id": "d3ddb045",
   "metadata": {},
   "outputs": [
    {
     "data": {
      "text/plain": [
       "(3, 1)"
      ]
     },
     "execution_count": 16,
     "metadata": {},
     "output_type": "execute_result"
    }
   ],
   "source": [
    "b.shape"
   ]
  },
  {
   "cell_type": "code",
   "execution_count": 18,
   "id": "558cef1a",
   "metadata": {},
   "outputs": [
    {
     "data": {
      "text/plain": [
       "array([[ 1.14357105e-04, -1.00000000e+00],\n",
       "       [ 5.56411359e-05, -1.00000000e+00],\n",
       "       [ 1.07175031e-05, -1.00000000e+00]])"
      ]
     },
     "execution_count": 18,
     "metadata": {},
     "output_type": "execute_result"
    }
   ],
   "source": [
    "np.c_[X, b]"
   ]
  },
  {
   "cell_type": "code",
   "execution_count": 19,
   "id": "c9a0b454",
   "metadata": {},
   "outputs": [
    {
     "data": {
      "text/plain": [
       "(3, 2)"
      ]
     },
     "execution_count": 19,
     "metadata": {},
     "output_type": "execute_result"
    }
   ],
   "source": [
    "np.c_[X, b].shape"
   ]
  },
  {
   "cell_type": "code",
   "execution_count": 4,
   "id": "6c42ea4e",
   "metadata": {},
   "outputs": [],
   "source": [
    "def prepare_data(df, target_col='y'):\n",
    "    X = df.drop(target_col, axis=1)\n",
    "    y = df[target_col]\n",
    "    \n",
    "    return X, y"
   ]
  },
  {
   "cell_type": "code",
   "execution_count": 5,
   "id": "e9fe332e",
   "metadata": {},
   "outputs": [
    {
     "data": {
      "text/html": [
       "<div>\n",
       "<style scoped>\n",
       "    .dataframe tbody tr th:only-of-type {\n",
       "        vertical-align: middle;\n",
       "    }\n",
       "\n",
       "    .dataframe tbody tr th {\n",
       "        vertical-align: top;\n",
       "    }\n",
       "\n",
       "    .dataframe thead th {\n",
       "        text-align: right;\n",
       "    }\n",
       "</style>\n",
       "<table border=\"1\" class=\"dataframe\">\n",
       "  <thead>\n",
       "    <tr style=\"text-align: right;\">\n",
       "      <th></th>\n",
       "      <th>x1</th>\n",
       "      <th>x2</th>\n",
       "      <th>y</th>\n",
       "    </tr>\n",
       "  </thead>\n",
       "  <tbody>\n",
       "    <tr>\n",
       "      <th>0</th>\n",
       "      <td>0</td>\n",
       "      <td>0</td>\n",
       "      <td>0</td>\n",
       "    </tr>\n",
       "    <tr>\n",
       "      <th>1</th>\n",
       "      <td>0</td>\n",
       "      <td>1</td>\n",
       "      <td>0</td>\n",
       "    </tr>\n",
       "    <tr>\n",
       "      <th>2</th>\n",
       "      <td>1</td>\n",
       "      <td>0</td>\n",
       "      <td>0</td>\n",
       "    </tr>\n",
       "    <tr>\n",
       "      <th>3</th>\n",
       "      <td>1</td>\n",
       "      <td>1</td>\n",
       "      <td>1</td>\n",
       "    </tr>\n",
       "  </tbody>\n",
       "</table>\n",
       "</div>"
      ],
      "text/plain": [
       "   x1  x2  y\n",
       "0   0   0  0\n",
       "1   0   1  0\n",
       "2   1   0  0\n",
       "3   1   1  1"
      ]
     },
     "execution_count": 5,
     "metadata": {},
     "output_type": "execute_result"
    }
   ],
   "source": [
    "AND = {\n",
    "    'x1': [0, 0, 1, 1],\n",
    "    'x2': [0, 1, 0, 1],\n",
    "    'y' : [0, 0, 0, 1]\n",
    "}\n",
    "\n",
    "df_AND = pd.DataFrame(AND)\n",
    "df_AND"
   ]
  },
  {
   "cell_type": "code",
   "execution_count": 6,
   "id": "b33526e2",
   "metadata": {},
   "outputs": [
    {
     "name": "stdout",
     "output_type": "stream",
     "text": [
      "initial weights before training: \n",
      "[-2.27644715e-04  5.06248529e-05 -7.95036353e-06]\n",
      "\n",
      "X with bias: \n",
      "[[ 0.  0. -1.]\n",
      " [ 0.  1. -1.]\n",
      " [ 1.  0. -1.]\n",
      " [ 1.  1. -1.]]\n",
      "--------------------\n",
      "for epoch >> 0\n",
      "--------------------\n",
      "predicted value after forward pass: \n",
      "[1 1 0 0]\n",
      "error: \n",
      "0   -1\n",
      "1   -1\n",
      "2    0\n",
      "3    1\n",
      "Name: y, dtype: int64\n",
      "updated weights after epoch: 1/10: \n",
      "[9.97723553e-02 5.06248529e-05 9.99920496e-02]\n",
      "####################\n",
      "--------------------\n",
      "for epoch >> 1\n",
      "--------------------\n",
      "predicted value after forward pass: \n",
      "[0 0 0 0]\n",
      "error: \n",
      "0    0\n",
      "1    0\n",
      "2    0\n",
      "3    1\n",
      "Name: y, dtype: int64\n",
      "updated weights after epoch: 2/10: \n",
      "[ 1.99772355e-01  1.00050625e-01 -7.95036353e-06]\n",
      "####################\n",
      "--------------------\n",
      "for epoch >> 2\n",
      "--------------------\n",
      "predicted value after forward pass: \n",
      "[1 1 1 1]\n",
      "error: \n",
      "0   -1\n",
      "1   -1\n",
      "2   -1\n",
      "3    0\n",
      "Name: y, dtype: int64\n",
      "updated weights after epoch: 3/10: \n",
      "[9.97723553e-02 5.06248529e-05 2.99992050e-01]\n",
      "####################\n",
      "--------------------\n",
      "for epoch >> 3\n",
      "--------------------\n",
      "predicted value after forward pass: \n",
      "[0 0 0 0]\n",
      "error: \n",
      "0    0\n",
      "1    0\n",
      "2    0\n",
      "3    1\n",
      "Name: y, dtype: int64\n",
      "updated weights after epoch: 4/10: \n",
      "[0.19977236 0.10005062 0.19999205]\n",
      "####################\n",
      "--------------------\n",
      "for epoch >> 4\n",
      "--------------------\n",
      "predicted value after forward pass: \n",
      "[0 0 0 1]\n",
      "error: \n",
      "0    0\n",
      "1    0\n",
      "2    0\n",
      "3    0\n",
      "Name: y, dtype: int64\n",
      "updated weights after epoch: 5/10: \n",
      "[0.19977236 0.10005062 0.19999205]\n",
      "####################\n",
      "--------------------\n",
      "for epoch >> 5\n",
      "--------------------\n",
      "predicted value after forward pass: \n",
      "[0 0 0 1]\n",
      "error: \n",
      "0    0\n",
      "1    0\n",
      "2    0\n",
      "3    0\n",
      "Name: y, dtype: int64\n",
      "updated weights after epoch: 6/10: \n",
      "[0.19977236 0.10005062 0.19999205]\n",
      "####################\n",
      "--------------------\n",
      "for epoch >> 6\n",
      "--------------------\n",
      "predicted value after forward pass: \n",
      "[0 0 0 1]\n",
      "error: \n",
      "0    0\n",
      "1    0\n",
      "2    0\n",
      "3    0\n",
      "Name: y, dtype: int64\n",
      "updated weights after epoch: 7/10: \n",
      "[0.19977236 0.10005062 0.19999205]\n",
      "####################\n",
      "--------------------\n",
      "for epoch >> 7\n",
      "--------------------\n",
      "predicted value after forward pass: \n",
      "[0 0 0 1]\n",
      "error: \n",
      "0    0\n",
      "1    0\n",
      "2    0\n",
      "3    0\n",
      "Name: y, dtype: int64\n",
      "updated weights after epoch: 8/10: \n",
      "[0.19977236 0.10005062 0.19999205]\n",
      "####################\n",
      "--------------------\n",
      "for epoch >> 8\n",
      "--------------------\n",
      "predicted value after forward pass: \n",
      "[0 0 0 1]\n",
      "error: \n",
      "0    0\n",
      "1    0\n",
      "2    0\n",
      "3    0\n",
      "Name: y, dtype: int64\n",
      "updated weights after epoch: 9/10: \n",
      "[0.19977236 0.10005062 0.19999205]\n",
      "####################\n",
      "--------------------\n",
      "for epoch >> 9\n",
      "--------------------\n",
      "predicted value after forward pass: \n",
      "[0 0 0 1]\n",
      "error: \n",
      "0    0\n",
      "1    0\n",
      "2    0\n",
      "3    0\n",
      "Name: y, dtype: int64\n",
      "updated weights after epoch: 10/10: \n",
      "[0.19977236 0.10005062 0.19999205]\n",
      "####################\n",
      "\n",
      "total loss: 0\n",
      "\n"
     ]
    }
   ],
   "source": [
    "X, y = prepare_data(df_AND)\n",
    "\n",
    "ETA = 0.1 # BTW 0 AND 1\n",
    "EPOCHS = 10\n",
    "\n",
    "model_and = Perceptron(eta=ETA, epochs=EPOCHS)\n",
    "model_and.fit(X, y)\n",
    "\n",
    "_ = model_and.total_loss()"
   ]
  },
  {
   "cell_type": "code",
   "execution_count": 10,
   "id": "e99d4782",
   "metadata": {},
   "outputs": [],
   "source": [
    "model_and.save(filename='and.model')"
   ]
  },
  {
   "cell_type": "code",
   "execution_count": 11,
   "id": "470a1a85",
   "metadata": {},
   "outputs": [],
   "source": [
    "reload_model_and = Perceptron().load(filepath='model/and.model')"
   ]
  },
  {
   "cell_type": "code",
   "execution_count": 13,
   "id": "9fc76df2",
   "metadata": {},
   "outputs": [
    {
     "data": {
      "text/plain": [
       "array([1])"
      ]
     },
     "execution_count": 13,
     "metadata": {},
     "output_type": "execute_result"
    }
   ],
   "source": [
    "reload_model_and.predict(X=[[1, 1]])"
   ]
  },
  {
   "cell_type": "code",
   "execution_count": 17,
   "id": "0c2929a4",
   "metadata": {},
   "outputs": [
    {
     "data": {
      "text/plain": [
       "array([0.09995026, 0.10005112, 0.199898  ])"
      ]
     },
     "execution_count": 17,
     "metadata": {},
     "output_type": "execute_result"
    }
   ],
   "source": [
    "model_and.weights"
   ]
  },
  {
   "cell_type": "markdown",
   "id": "8ce50eb0",
   "metadata": {},
   "source": [
    "## OR Gate"
   ]
  },
  {
   "cell_type": "code",
   "execution_count": 7,
   "id": "5352a13f",
   "metadata": {},
   "outputs": [
    {
     "data": {
      "text/html": [
       "<div>\n",
       "<style scoped>\n",
       "    .dataframe tbody tr th:only-of-type {\n",
       "        vertical-align: middle;\n",
       "    }\n",
       "\n",
       "    .dataframe tbody tr th {\n",
       "        vertical-align: top;\n",
       "    }\n",
       "\n",
       "    .dataframe thead th {\n",
       "        text-align: right;\n",
       "    }\n",
       "</style>\n",
       "<table border=\"1\" class=\"dataframe\">\n",
       "  <thead>\n",
       "    <tr style=\"text-align: right;\">\n",
       "      <th></th>\n",
       "      <th>x1</th>\n",
       "      <th>x2</th>\n",
       "      <th>y</th>\n",
       "    </tr>\n",
       "  </thead>\n",
       "  <tbody>\n",
       "    <tr>\n",
       "      <th>0</th>\n",
       "      <td>0</td>\n",
       "      <td>0</td>\n",
       "      <td>0</td>\n",
       "    </tr>\n",
       "    <tr>\n",
       "      <th>1</th>\n",
       "      <td>0</td>\n",
       "      <td>1</td>\n",
       "      <td>1</td>\n",
       "    </tr>\n",
       "    <tr>\n",
       "      <th>2</th>\n",
       "      <td>1</td>\n",
       "      <td>0</td>\n",
       "      <td>1</td>\n",
       "    </tr>\n",
       "    <tr>\n",
       "      <th>3</th>\n",
       "      <td>1</td>\n",
       "      <td>1</td>\n",
       "      <td>1</td>\n",
       "    </tr>\n",
       "  </tbody>\n",
       "</table>\n",
       "</div>"
      ],
      "text/plain": [
       "   x1  x2  y\n",
       "0   0   0  0\n",
       "1   0   1  1\n",
       "2   1   0  1\n",
       "3   1   1  1"
      ]
     },
     "execution_count": 7,
     "metadata": {},
     "output_type": "execute_result"
    }
   ],
   "source": [
    "OR = {\n",
    "    'x1': [0, 0, 1, 1],\n",
    "    'x2': [0, 1, 0, 1],\n",
    "    'y' : [0, 1, 1, 1]\n",
    "}\n",
    "\n",
    "df_OR = pd.DataFrame(OR)\n",
    "df_OR"
   ]
  },
  {
   "cell_type": "code",
   "execution_count": 8,
   "id": "3975011a",
   "metadata": {},
   "outputs": [
    {
     "name": "stdout",
     "output_type": "stream",
     "text": [
      "initial weights before training: \n",
      "[-8.72652301e-05 -7.16692484e-05 -6.77092798e-05]\n",
      "\n",
      "X with bias: \n",
      "[[ 0.  0. -1.]\n",
      " [ 0.  1. -1.]\n",
      " [ 1.  0. -1.]\n",
      " [ 1.  1. -1.]]\n",
      "--------------------\n",
      "for epoch >> 0\n",
      "--------------------\n",
      "predicted value after forward pass: \n",
      "[1 0 0 0]\n",
      "error: \n",
      "0   -1\n",
      "1    1\n",
      "2    1\n",
      "3    1\n",
      "Name: y, dtype: int64\n",
      "updated weights after epoch: 1/10: \n",
      "[ 0.19991273  0.19992833 -0.20006771]\n",
      "####################\n",
      "--------------------\n",
      "for epoch >> 1\n",
      "--------------------\n",
      "predicted value after forward pass: \n",
      "[1 1 1 1]\n",
      "error: \n",
      "0   -1\n",
      "1    0\n",
      "2    0\n",
      "3    0\n",
      "Name: y, dtype: int64\n",
      "updated weights after epoch: 2/10: \n",
      "[ 0.19991273  0.19992833 -0.10006771]\n",
      "####################\n",
      "--------------------\n",
      "for epoch >> 2\n",
      "--------------------\n",
      "predicted value after forward pass: \n",
      "[1 1 1 1]\n",
      "error: \n",
      "0   -1\n",
      "1    0\n",
      "2    0\n",
      "3    0\n",
      "Name: y, dtype: int64\n",
      "updated weights after epoch: 3/10: \n",
      "[ 1.99912735e-01  1.99928331e-01 -6.77092798e-05]\n",
      "####################\n",
      "--------------------\n",
      "for epoch >> 3\n",
      "--------------------\n",
      "predicted value after forward pass: \n",
      "[1 1 1 1]\n",
      "error: \n",
      "0   -1\n",
      "1    0\n",
      "2    0\n",
      "3    0\n",
      "Name: y, dtype: int64\n",
      "updated weights after epoch: 4/10: \n",
      "[0.19991273 0.19992833 0.09993229]\n",
      "####################\n",
      "--------------------\n",
      "for epoch >> 4\n",
      "--------------------\n",
      "predicted value after forward pass: \n",
      "[0 1 1 1]\n",
      "error: \n",
      "0    0\n",
      "1    0\n",
      "2    0\n",
      "3    0\n",
      "Name: y, dtype: int64\n",
      "updated weights after epoch: 5/10: \n",
      "[0.19991273 0.19992833 0.09993229]\n",
      "####################\n",
      "--------------------\n",
      "for epoch >> 5\n",
      "--------------------\n",
      "predicted value after forward pass: \n",
      "[0 1 1 1]\n",
      "error: \n",
      "0    0\n",
      "1    0\n",
      "2    0\n",
      "3    0\n",
      "Name: y, dtype: int64\n",
      "updated weights after epoch: 6/10: \n",
      "[0.19991273 0.19992833 0.09993229]\n",
      "####################\n",
      "--------------------\n",
      "for epoch >> 6\n",
      "--------------------\n",
      "predicted value after forward pass: \n",
      "[0 1 1 1]\n",
      "error: \n",
      "0    0\n",
      "1    0\n",
      "2    0\n",
      "3    0\n",
      "Name: y, dtype: int64\n",
      "updated weights after epoch: 7/10: \n",
      "[0.19991273 0.19992833 0.09993229]\n",
      "####################\n",
      "--------------------\n",
      "for epoch >> 7\n",
      "--------------------\n",
      "predicted value after forward pass: \n",
      "[0 1 1 1]\n",
      "error: \n",
      "0    0\n",
      "1    0\n",
      "2    0\n",
      "3    0\n",
      "Name: y, dtype: int64\n",
      "updated weights after epoch: 8/10: \n",
      "[0.19991273 0.19992833 0.09993229]\n",
      "####################\n",
      "--------------------\n",
      "for epoch >> 8\n",
      "--------------------\n",
      "predicted value after forward pass: \n",
      "[0 1 1 1]\n",
      "error: \n",
      "0    0\n",
      "1    0\n",
      "2    0\n",
      "3    0\n",
      "Name: y, dtype: int64\n",
      "updated weights after epoch: 9/10: \n",
      "[0.19991273 0.19992833 0.09993229]\n",
      "####################\n",
      "--------------------\n",
      "for epoch >> 9\n",
      "--------------------\n",
      "predicted value after forward pass: \n",
      "[0 1 1 1]\n",
      "error: \n",
      "0    0\n",
      "1    0\n",
      "2    0\n",
      "3    0\n",
      "Name: y, dtype: int64\n",
      "updated weights after epoch: 10/10: \n",
      "[0.19991273 0.19992833 0.09993229]\n",
      "####################\n",
      "\n",
      "total loss: 0\n",
      "\n"
     ]
    }
   ],
   "source": [
    "X, y = prepare_data(df_OR)\n",
    "\n",
    "ETA = 0.1 # BTW 0 AND 1\n",
    "EPOCHS = 10\n",
    "\n",
    "model_or = Perceptron(eta=ETA, epochs=EPOCHS)\n",
    "model_or.fit(X, y)\n",
    "\n",
    "_ = model_or.total_loss()"
   ]
  },
  {
   "cell_type": "code",
   "execution_count": 16,
   "id": "a33fc34f",
   "metadata": {},
   "outputs": [],
   "source": [
    "model_or.save(filename='or.model', model_dir='model_or')"
   ]
  },
  {
   "cell_type": "code",
   "execution_count": null,
   "id": "e18e3c4e",
   "metadata": {},
   "outputs": [],
   "source": []
  },
  {
   "cell_type": "code",
   "execution_count": null,
   "id": "1a7b6216",
   "metadata": {},
   "outputs": [],
   "source": []
  },
  {
   "cell_type": "markdown",
   "id": "b78a4720",
   "metadata": {},
   "source": [
    "## XOR Gate"
   ]
  },
  {
   "cell_type": "code",
   "execution_count": null,
   "id": "650e8212",
   "metadata": {},
   "outputs": [],
   "source": []
  },
  {
   "cell_type": "code",
   "execution_count": 9,
   "id": "7710d742",
   "metadata": {},
   "outputs": [
    {
     "data": {
      "text/html": [
       "<div>\n",
       "<style scoped>\n",
       "    .dataframe tbody tr th:only-of-type {\n",
       "        vertical-align: middle;\n",
       "    }\n",
       "\n",
       "    .dataframe tbody tr th {\n",
       "        vertical-align: top;\n",
       "    }\n",
       "\n",
       "    .dataframe thead th {\n",
       "        text-align: right;\n",
       "    }\n",
       "</style>\n",
       "<table border=\"1\" class=\"dataframe\">\n",
       "  <thead>\n",
       "    <tr style=\"text-align: right;\">\n",
       "      <th></th>\n",
       "      <th>x1</th>\n",
       "      <th>x2</th>\n",
       "      <th>y</th>\n",
       "    </tr>\n",
       "  </thead>\n",
       "  <tbody>\n",
       "    <tr>\n",
       "      <th>0</th>\n",
       "      <td>0</td>\n",
       "      <td>0</td>\n",
       "      <td>0</td>\n",
       "    </tr>\n",
       "    <tr>\n",
       "      <th>1</th>\n",
       "      <td>0</td>\n",
       "      <td>1</td>\n",
       "      <td>1</td>\n",
       "    </tr>\n",
       "    <tr>\n",
       "      <th>2</th>\n",
       "      <td>1</td>\n",
       "      <td>0</td>\n",
       "      <td>1</td>\n",
       "    </tr>\n",
       "    <tr>\n",
       "      <th>3</th>\n",
       "      <td>1</td>\n",
       "      <td>1</td>\n",
       "      <td>0</td>\n",
       "    </tr>\n",
       "  </tbody>\n",
       "</table>\n",
       "</div>"
      ],
      "text/plain": [
       "   x1  x2  y\n",
       "0   0   0  0\n",
       "1   0   1  1\n",
       "2   1   0  1\n",
       "3   1   1  0"
      ]
     },
     "execution_count": 9,
     "metadata": {},
     "output_type": "execute_result"
    }
   ],
   "source": [
    "XOR = {\n",
    "    'x1': [0, 0, 1, 1],\n",
    "    'x2': [0, 1, 0, 1],\n",
    "    'y' : [0, 1, 1, 0]\n",
    "}\n",
    "\n",
    "df_XOR = pd.DataFrame(XOR)\n",
    "df_XOR"
   ]
  },
  {
   "cell_type": "code",
   "execution_count": 10,
   "id": "bfed80ca",
   "metadata": {},
   "outputs": [
    {
     "name": "stdout",
     "output_type": "stream",
     "text": [
      "initial weights before training: \n",
      "[-1.74595896e-04 -9.85652710e-06 -3.00633075e-05]\n",
      "\n",
      "X with bias: \n",
      "[[ 0.  0. -1.]\n",
      " [ 0.  1. -1.]\n",
      " [ 1.  0. -1.]\n",
      " [ 1.  1. -1.]]\n",
      "--------------------\n",
      "for epoch >> 0\n",
      "--------------------\n",
      "predicted value after forward pass: \n",
      "[1 1 0 0]\n",
      "error: \n",
      "0   -1\n",
      "1    0\n",
      "2    1\n",
      "3    0\n",
      "Name: y, dtype: int64\n",
      "updated weights after epoch: 1/10: \n",
      "[ 9.98254041e-02 -9.85652710e-06 -3.00633075e-05]\n",
      "####################\n",
      "--------------------\n",
      "for epoch >> 1\n",
      "--------------------\n",
      "predicted value after forward pass: \n",
      "[1 1 1 1]\n",
      "error: \n",
      "0   -1\n",
      "1    0\n",
      "2    0\n",
      "3   -1\n",
      "Name: y, dtype: int64\n",
      "updated weights after epoch: 2/10: \n",
      "[-1.74595896e-04 -1.00009857e-01  1.99969937e-01]\n",
      "####################\n",
      "--------------------\n",
      "for epoch >> 2\n",
      "--------------------\n",
      "predicted value after forward pass: \n",
      "[0 0 0 0]\n",
      "error: \n",
      "0    0\n",
      "1    1\n",
      "2    1\n",
      "3    0\n",
      "Name: y, dtype: int64\n",
      "updated weights after epoch: 3/10: \n",
      "[ 9.98254041e-02 -9.85652710e-06 -3.00633075e-05]\n",
      "####################\n",
      "--------------------\n",
      "for epoch >> 3\n",
      "--------------------\n",
      "predicted value after forward pass: \n",
      "[1 1 1 1]\n",
      "error: \n",
      "0   -1\n",
      "1    0\n",
      "2    0\n",
      "3   -1\n",
      "Name: y, dtype: int64\n",
      "updated weights after epoch: 4/10: \n",
      "[-1.74595896e-04 -1.00009857e-01  1.99969937e-01]\n",
      "####################\n",
      "--------------------\n",
      "for epoch >> 4\n",
      "--------------------\n",
      "predicted value after forward pass: \n",
      "[0 0 0 0]\n",
      "error: \n",
      "0    0\n",
      "1    1\n",
      "2    1\n",
      "3    0\n",
      "Name: y, dtype: int64\n",
      "updated weights after epoch: 5/10: \n",
      "[ 9.98254041e-02 -9.85652710e-06 -3.00633075e-05]\n",
      "####################\n",
      "--------------------\n",
      "for epoch >> 5\n",
      "--------------------\n",
      "predicted value after forward pass: \n",
      "[1 1 1 1]\n",
      "error: \n",
      "0   -1\n",
      "1    0\n",
      "2    0\n",
      "3   -1\n",
      "Name: y, dtype: int64\n",
      "updated weights after epoch: 6/10: \n",
      "[-1.74595896e-04 -1.00009857e-01  1.99969937e-01]\n",
      "####################\n",
      "--------------------\n",
      "for epoch >> 6\n",
      "--------------------\n",
      "predicted value after forward pass: \n",
      "[0 0 0 0]\n",
      "error: \n",
      "0    0\n",
      "1    1\n",
      "2    1\n",
      "3    0\n",
      "Name: y, dtype: int64\n",
      "updated weights after epoch: 7/10: \n",
      "[ 9.98254041e-02 -9.85652710e-06 -3.00633075e-05]\n",
      "####################\n",
      "--------------------\n",
      "for epoch >> 7\n",
      "--------------------\n",
      "predicted value after forward pass: \n",
      "[1 1 1 1]\n",
      "error: \n",
      "0   -1\n",
      "1    0\n",
      "2    0\n",
      "3   -1\n",
      "Name: y, dtype: int64\n",
      "updated weights after epoch: 8/10: \n",
      "[-1.74595896e-04 -1.00009857e-01  1.99969937e-01]\n",
      "####################\n",
      "--------------------\n",
      "for epoch >> 8\n",
      "--------------------\n",
      "predicted value after forward pass: \n",
      "[0 0 0 0]\n",
      "error: \n",
      "0    0\n",
      "1    1\n",
      "2    1\n",
      "3    0\n",
      "Name: y, dtype: int64\n",
      "updated weights after epoch: 9/10: \n",
      "[ 9.98254041e-02 -9.85652710e-06 -3.00633075e-05]\n",
      "####################\n",
      "--------------------\n",
      "for epoch >> 9\n",
      "--------------------\n",
      "predicted value after forward pass: \n",
      "[1 1 1 1]\n",
      "error: \n",
      "0   -1\n",
      "1    0\n",
      "2    0\n",
      "3   -1\n",
      "Name: y, dtype: int64\n",
      "updated weights after epoch: 10/10: \n",
      "[-1.74595896e-04 -1.00009857e-01  1.99969937e-01]\n",
      "####################\n",
      "\n",
      "total loss: -2\n",
      "\n"
     ]
    }
   ],
   "source": [
    "X, y = prepare_data(df_XOR)\n",
    "\n",
    "ETA = 0.1 # BTW 0 AND 1\n",
    "EPOCHS = 10\n",
    "\n",
    "model_xor = Perceptron(eta=ETA, epochs=EPOCHS)\n",
    "model_xor.fit(X, y)\n",
    "\n",
    "_ = model_xor.total_loss()"
   ]
  },
  {
   "cell_type": "code",
   "execution_count": 11,
   "id": "cca0e9e8",
   "metadata": {},
   "outputs": [],
   "source": [
    "def save_plot(df, model, filename=\"plot.png\", plot_dir=\"plots\"):\n",
    "    def _create_base_plot(df):\n",
    "        df.plot(kind=\"scatter\", x=\"x1\", y=\"x2\", c=\"y\", s=100, cmap=\"coolwarm\")\n",
    "        plt.axhline(y=0, color=\"black\", linestyle=\"--\", linewidth=1)\n",
    "        plt.axvline(x=0, color=\"black\", linestyle=\"--\", linewidth=1)\n",
    "        \n",
    "        figure = plt.gcf()\n",
    "        figure.set_size_inches(10, 8)\n",
    "    \n",
    "    def _plot_decision_regions(X, y, classifier, resolution=0.02):\n",
    "        colors = (\"cyan\", \"lightgreen\")\n",
    "        cmap = ListedColormap(colors)\n",
    "        \n",
    "        X = X.values # as an array\n",
    "        x1 = X[:, 0]\n",
    "        x2 = X[:, 1]\n",
    "        \n",
    "        x1_min, x1_max = x1.min() - 1, x1.max() + 1 \n",
    "        x2_min, x2_max = x2.min() - 1, x2.max() + 1\n",
    "        \n",
    "        xx1, xx2 = np.meshgrid(np.arange(x1_min, x1_max, resolution),\n",
    "                               np.arange(x2_min, x2_max, resolution)\n",
    "                              )\n",
    "        y_hat = classifier.predict(np.array([xx1.ravel(), xx2.ravel()]).T)\n",
    "        y_hat = y_hat.reshape(xx1.shape)\n",
    "        \n",
    "        plt.contourf(xx1, xx2, y_hat, alpha=0.3, cmap=cmap)\n",
    "        plt.xlim(xx1.min(), xx1.max())\n",
    "        plt.ylim(xx2.min(), xx2.max())\n",
    "        \n",
    "        plt.plot()\n",
    "        \n",
    "    X, y = prepare_data(df)\n",
    "    \n",
    "    _create_base_plot(df)\n",
    "    _plot_decision_regions(X, y, model)\n",
    "    \n",
    "    os.makedirs(plot_dir, exist_ok=True)\n",
    "    plot_path = os.path.join(plot_dir, filename)\n",
    "    plt.savefig(plot_path)\n"
   ]
  },
  {
   "cell_type": "code",
   "execution_count": 12,
   "id": "c6c6bc51",
   "metadata": {},
   "outputs": [
    {
     "data": {
      "image/png": "[encoded data removed]",
      "text/plain": [
       "<Figure size 1000x800 with 2 Axes>"
      ]
     },
     "metadata": {},
     "output_type": "display_data"
    }
   ],
   "source": [
    "save_plot(df_OR, model_or, filename='plot_or.png')"
   ]
  },
  {
   "cell_type": "code",
   "execution_count": 14,
   "id": "fdcde3c0",
   "metadata": {},
   "outputs": [
    {
     "data": {
      "image/png": "[encoded data removed]",
      "text/plain": [
       "<Figure size 1000x800 with 2 Axes>"
      ]
     },
     "metadata": {},
     "output_type": "display_data"
    }
   ],
   "source": [
    "save_plot(df_AND, model_and, filename='plot_or.png')"
   ]
  },
  {
   "cell_type": "code",
   "execution_count": 15,
   "id": "683bc80e",
   "metadata": {},
   "outputs": [
    {
     "data": {
      "image/png": "[encoded data removed]",
      "text/plain": [
       "<Figure size 1000x800 with 2 Axes>"
      ]
     },
     "metadata": {},
     "output_type": "display_data"
    }
   ],
   "source": [
    "save_plot(df_XOR, model_xor, filename='plot_or.png')"
   ]
  },
  {
   "cell_type": "code",
   "execution_count": null,
   "id": "892d0682",
   "metadata": {},
   "outputs": [],
   "source": []
  }
 ],
 "metadata": {
  "kernelspec": {
   "display_name": "Python 3 (ipykernel)",
   "language": "python",
   "name": "python3"
  },
  "language_info": {
   "codemirror_mode": {
    "name": "ipython",
    "version": 3
   },
   "file_extension": ".py",
   "mimetype": "text/x-python",
   "name": "python",
   "nbconvert_exporter": "python",
   "pygments_lexer": "ipython3",
   "version": "3.10.6"
  }
 },
 "nbformat": 4,
 "nbformat_minor": 5
}
